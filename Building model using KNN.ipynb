{
    "nbformat_minor": 1, 
    "cells": [
        {
            "source": "### KNN", 
            "cell_type": "markdown", 
            "metadata": {}
        }, 
        {
            "execution_count": 1, 
            "cell_type": "code", 
            "metadata": {}, 
            "outputs": [], 
            "source": "# The code was removed by Watson Studio for sharing."
        }, 
        {
            "execution_count": 2, 
            "cell_type": "code", 
            "metadata": {}, 
            "outputs": [], 
            "source": "import numpy as np\nimport scipy.optimize as opt\nfrom sklearn import preprocessing\n%matplotlib inline \nimport matplotlib.pyplot as plt"
        }, 
        {
            "execution_count": 3, 
            "cell_type": "code", 
            "metadata": {}, 
            "outputs": [], 
            "source": "data = df_data_1[['Loan Status', 'Current Loan Amount', 'Term', 'Credit Score', 'Annual Income', 'Years in current job',  'Monthly Debt', 'Years of Credit History', 'Number of Open Accounts', 'Number of Credit Problems', 'Current Credit Balance', 'Maximum Open Credit']]"
        }, 
        {
            "execution_count": 4, 
            "cell_type": "code", 
            "metadata": {}, 
            "outputs": [], 
            "source": "data = data.dropna()"
        }, 
        {
            "execution_count": 5, 
            "cell_type": "code", 
            "metadata": {}, 
            "outputs": [
                {
                    "execution_count": 5, 
                    "metadata": {}, 
                    "data": {
                        "text/plain": "Loan Status                  77433\nCurrent Loan Amount          77433\nTerm                         77433\nCredit Score                 77433\nAnnual Income                77433\nYears in current job         77433\nMonthly Debt                 77433\nYears of Credit History      77433\nNumber of Open Accounts      77433\nNumber of Credit Problems    77433\nCurrent Credit Balance       77433\nMaximum Open Credit          77433\ndtype: int64"
                    }, 
                    "output_type": "execute_result"
                }
            ], 
            "source": "data.count()"
        }, 
        {
            "execution_count": 6, 
            "cell_type": "code", 
            "metadata": {}, 
            "outputs": [], 
            "source": "data = data.replace('Fully Paid', 1)\ndata = data.replace('Charged Off', 0)"
        }, 
        {
            "execution_count": 7, 
            "cell_type": "code", 
            "metadata": {}, 
            "outputs": [], 
            "source": "data=data.replace('Short Term', 0.5)\ndata=data.replace('Long Term', 1)"
        }, 
        {
            "execution_count": 8, 
            "cell_type": "code", 
            "metadata": {}, 
            "outputs": [], 
            "source": "# @\ndata= data.replace('1 years', 1)\ndata= data.replace('1 year', 1)\ndata= data.replace('< 1 year', 0.9)\ndata= data.replace('2 years', 2)\ndata= data.replace('2 year', 2)\ndata= data.replace('3 years', 3)\ndata= data.replace('3 year', 3)\ndata= data.replace('4 years', 4)\ndata= data.replace('4 year', 4)\ndata= data.replace('5 years', 5)\ndata= data.replace('5 year', 5)\ndata= data.replace('6 years', 6)\ndata= data.replace('6 year', 6)\ndata= data.replace('7 years', 7)\ndata= data.replace('7 year', 7)\ndata= data.replace('8 years', 8)\ndata= data.replace('8 year', 8)\ndata= data.replace('9 years', 9)\ndata= data.replace('9 year', 9)\ndata= data.replace('10 years', 10)\ndata= data.replace('10 years', 10)\ndata= data.replace('10+ years', 11)"
        }, 
        {
            "execution_count": 9, 
            "cell_type": "code", 
            "metadata": {}, 
            "outputs": [], 
            "source": "x = np.asarray(data[['Current Loan Amount', 'Term', 'Credit Score', 'Annual Income', 'Years in current job',  'Monthly Debt', 'Years of Credit History', 'Number of Open Accounts', 'Number of Credit Problems', 'Current Credit Balance', 'Maximum Open Credit']])"
        }, 
        {
            "execution_count": 10, 
            "cell_type": "code", 
            "metadata": {}, 
            "outputs": [], 
            "source": "y = np.asarray(data['Loan Status'])"
        }, 
        {
            "execution_count": 11, 
            "cell_type": "code", 
            "metadata": {}, 
            "outputs": [], 
            "source": "x = preprocessing.StandardScaler().fit(x).transform(x.astype(float))"
        }, 
        {
            "execution_count": 12, 
            "cell_type": "code", 
            "metadata": {}, 
            "outputs": [
                {
                    "output_type": "stream", 
                    "name": "stdout", 
                    "text": "Train set: (61946, 11) (61946,)\nTest set: (15487, 11) (15487,)\n"
                }
            ], 
            "source": "from sklearn.model_selection import train_test_split\nx_train, x_test, y_train, y_test = train_test_split( x, y, test_size=0.2, random_state=4)\nprint ('Train set:', x_train.shape,  y_train.shape)\nprint ('Test set:', x_test.shape,  y_test.shape)"
        }, 
        {
            "execution_count": 13, 
            "cell_type": "code", 
            "metadata": {}, 
            "outputs": [
                {
                    "execution_count": 13, 
                    "metadata": {}, 
                    "data": {
                        "text/plain": "KNeighborsClassifier(algorithm='auto', leaf_size=30, metric='minkowski',\n           metric_params=None, n_jobs=1, n_neighbors=9, p=2,\n           weights='uniform')"
                    }, 
                    "output_type": "execute_result"
                }
            ], 
            "source": "from sklearn.neighbors import KNeighborsClassifier\nk = 9\nneigh = KNeighborsClassifier(n_neighbors = k).fit(x_train,y_train)\nneigh"
        }, 
        {
            "execution_count": 14, 
            "cell_type": "code", 
            "metadata": {}, 
            "outputs": [], 
            "source": "yhat = neigh.predict(x_test)"
        }, 
        {
            "execution_count": 15, 
            "cell_type": "code", 
            "metadata": {}, 
            "outputs": [
                {
                    "output_type": "stream", 
                    "name": "stdout", 
                    "text": "Train set Accuracy:  0.850611823201\nTest set Accuracy:  0.839478272099\n"
                }
            ], 
            "source": "from sklearn import metrics\nprint(\"Train set Accuracy: \", metrics.accuracy_score(y_train, neigh.predict(x_train)))\nprint(\"Test set Accuracy: \", metrics.accuracy_score(y_test, yhat))"
        }, 
        {
            "source": "## Evaluation", 
            "cell_type": "markdown", 
            "metadata": {}
        }, 
        {
            "source": "### F1_score", 
            "cell_type": "markdown", 
            "metadata": {}
        }, 
        {
            "execution_count": 16, 
            "cell_type": "code", 
            "metadata": {}, 
            "outputs": [
                {
                    "execution_count": 16, 
                    "metadata": {}, 
                    "data": {
                        "text/plain": "0.80877935534721423"
                    }, 
                    "output_type": "execute_result"
                }
            ], 
            "source": "from sklearn.metrics import f1_score\nf1_score(y_test, yhat, average='weighted') "
        }, 
        {
            "source": "### Jaccard Index", 
            "cell_type": "markdown", 
            "metadata": {}
        }, 
        {
            "execution_count": 17, 
            "cell_type": "code", 
            "metadata": {}, 
            "outputs": [
                {
                    "execution_count": 17, 
                    "metadata": {}, 
                    "data": {
                        "text/plain": "0.83947827209917991"
                    }, 
                    "output_type": "execute_result"
                }
            ], 
            "source": "from sklearn.metrics import jaccard_similarity_score\njaccard_similarity_score(y_test, yhat)"
        }
    ], 
    "metadata": {
        "kernelspec": {
            "display_name": "Python 3.5", 
            "name": "python3", 
            "language": "python"
        }, 
        "language_info": {
            "mimetype": "text/x-python", 
            "nbconvert_exporter": "python", 
            "version": "3.5.5", 
            "name": "python", 
            "file_extension": ".py", 
            "pygments_lexer": "ipython3", 
            "codemirror_mode": {
                "version": 3, 
                "name": "ipython"
            }
        }
    }, 
    "nbformat": 4
}