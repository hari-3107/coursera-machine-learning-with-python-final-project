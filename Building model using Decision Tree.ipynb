{
    "nbformat_minor": 1, 
    "cells": [
        {
            "execution_count": null, 
            "cell_type": "code", 
            "metadata": {
                "collapsed": true
            }, 
            "outputs": [], 
            "source": "# The code was removed by Watson Studio for sharing."
        }, 
        {
            "execution_count": 3, 
            "cell_type": "code", 
            "metadata": {}, 
            "outputs": [
                {
                    "execution_count": 3, 
                    "metadata": {}, 
                    "data": {
                        "text/plain": "['Loan ID',\n 'Customer ID',\n 'Loan Status',\n 'Current Loan Amount',\n 'Term',\n 'Credit Score',\n 'Annual Income',\n 'Years in current job',\n 'Home Ownership',\n 'Purpose',\n 'Monthly Debt',\n 'Years of Credit History',\n 'Months since last delinquent',\n 'Number of Open Accounts',\n 'Number of Credit Problems',\n 'Current Credit Balance',\n 'Maximum Open Credit',\n 'Bankruptcies',\n 'Tax Liens']"
                    }, 
                    "output_type": "execute_result"
                }
            ], 
            "source": "list(df_data_1)\n"
        }, 
        {
            "execution_count": 5, 
            "cell_type": "code", 
            "metadata": {}, 
            "outputs": [], 
            "source": "data = df_data_1[['Loan Status', 'Current Loan Amount', 'Term', 'Credit Score', 'Annual Income', 'Years in current job',  'Monthly Debt', 'Years of Credit History', 'Number of Open Accounts', 'Number of Credit Problems', 'Current Credit Balance', 'Maximum Open Credit']]data = data.dropna()\n"
        }, 
        {
            "execution_count": 6, 
            "cell_type": "code", 
            "metadata": {}, 
            "outputs": [], 
            "source": "data = data.dropna()"
        }, 
        {
            "execution_count": 7, 
            "cell_type": "code", 
            "metadata": {}, 
            "outputs": [
                {
                    "execution_count": 7, 
                    "metadata": {}, 
                    "data": {
                        "text/plain": "Loan Status                  77433\nCurrent Loan Amount          77433\nTerm                         77433\nCredit Score                 77433\nAnnual Income                77433\nYears in current job         77433\nMonthly Debt                 77433\nYears of Credit History      77433\nNumber of Open Accounts      77433\nNumber of Credit Problems    77433\nCurrent Credit Balance       77433\nMaximum Open Credit          77433\ndtype: int64"
                    }, 
                    "output_type": "execute_result"
                }
            ], 
            "source": "data.count()"
        }, 
        {
            "execution_count": 8, 
            "cell_type": "code", 
            "metadata": {}, 
            "outputs": [], 
            "source": "data = data.replace('Fully Paid', 1)\ndata = data.replace('Charged Off', 0)"
        }, 
        {
            "execution_count": 9, 
            "cell_type": "code", 
            "metadata": {}, 
            "outputs": [], 
            "source": "data=data.replace('Short Term', 0.5)\ndata=data.replace('Long Term', 1)"
        }, 
        {
            "execution_count": 14, 
            "cell_type": "code", 
            "metadata": {}, 
            "outputs": [], 
            "source": "data= data.replace('1 years', 1)\ndata= data.replace('1 year', 1)\ndata= data.replace('< 1 year', 0.9)\ndata= data.replace('2 years', 2)\ndata= data.replace('2 year', 2)\ndata= data.replace('3 years', 3)\ndata= data.replace('3 year', 3)\ndata= data.replace('4 years', 4)\ndata= data.replace('4 year', 4)\ndata= data.replace('5 years', 5)\ndata= data.replace('5 year', 5)\ndata= data.replace('6 years', 6)\ndata= data.replace('6 year', 6)\ndata= data.replace('7 years', 7)\ndata= data.replace('7 year', 7)\ndata= data.replace('8 years', 8)\ndata= data.replace('8 year', 8)\ndata= data.replace('9 years', 9)\ndata= data.replace('9 year', 9)\ndata= data.replace('10 years', 10)\ndata= data.replace('10 years', 10)\ndata= data.replace('10+ years', 11)"
        }
    ], 
    "metadata": {
        "kernelspec": {
            "display_name": "Python 3.5", 
            "name": "python3", 
            "language": "python"
        }, 
        "language_info": {
            "mimetype": "text/x-python", 
            "nbconvert_exporter": "python", 
            "version": "3.5.5", 
            "name": "python", 
            "file_extension": ".py", 
            "pygments_lexer": "ipython3", 
            "codemirror_mode": {
                "version": 3, 
                "name": "ipython"
            }
        }
    }, 
    "nbformat": 4
}