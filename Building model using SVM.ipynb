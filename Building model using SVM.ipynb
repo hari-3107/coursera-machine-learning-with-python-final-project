{
    "nbformat_minor": 1, 
    "cells": [
        {
            "source": "## Support vector machine", 
            "cell_type": "markdown", 
            "metadata": {
                "collapsed": true
            }
        }, 
        {
            "execution_count": 2, 
            "cell_type": "code", 
            "metadata": {}, 
            "outputs": [], 
            "source": "# The code was removed by Watson Studio for sharing."
        }, 
        {
            "execution_count": 3, 
            "cell_type": "code", 
            "metadata": {}, 
            "outputs": [], 
            "source": "df_data_1 = df_data_1.drop(df_data_1.index[30000:100513])"
        }, 
        {
            "execution_count": 4, 
            "cell_type": "code", 
            "metadata": {
                "scrolled": true
            }, 
            "outputs": [
                {
                    "execution_count": 4, 
                    "metadata": {}, 
                    "data": {
                        "text/plain": "Loan ID                         30000\nCustomer ID                     30000\nLoan Status                     30000\nCurrent Loan Amount             30000\nTerm                            30000\nCredit Score                    24181\nAnnual Income                   24181\nYears in current job            28737\nHome Ownership                  30000\nPurpose                         30000\nMonthly Debt                    30000\nYears of Credit History         30000\nMonths since last delinquent    13919\nNumber of Open Accounts         30000\nNumber of Credit Problems       30000\nCurrent Credit Balance          30000\nMaximum Open Credit             30000\nBankruptcies                    29939\nTax Liens                       29994\ndtype: int64"
                    }, 
                    "output_type": "execute_result"
                }
            ], 
            "source": "df_data_1.count()"
        }, 
        {
            "execution_count": 5, 
            "cell_type": "code", 
            "metadata": {}, 
            "outputs": [], 
            "source": "data = df_data_1[['Loan Status', 'Current Loan Amount', 'Term', 'Credit Score', 'Annual Income', 'Years in current job',  'Monthly Debt', 'Years of Credit History', 'Number of Open Accounts', 'Number of Credit Problems', 'Current Credit Balance', 'Maximum Open Credit']]"
        }, 
        {
            "execution_count": 6, 
            "cell_type": "code", 
            "metadata": {}, 
            "outputs": [], 
            "source": "data = data.dropna()"
        }, 
        {
            "execution_count": 7, 
            "cell_type": "code", 
            "metadata": {}, 
            "outputs": [
                {
                    "execution_count": 7, 
                    "metadata": {}, 
                    "data": {
                        "text/plain": "Loan Status                  23159\nCurrent Loan Amount          23159\nTerm                         23159\nCredit Score                 23159\nAnnual Income                23159\nYears in current job         23159\nMonthly Debt                 23159\nYears of Credit History      23159\nNumber of Open Accounts      23159\nNumber of Credit Problems    23159\nCurrent Credit Balance       23159\nMaximum Open Credit          23159\ndtype: int64"
                    }, 
                    "output_type": "execute_result"
                }
            ], 
            "source": "data.count()"
        }, 
        {
            "execution_count": 8, 
            "cell_type": "code", 
            "metadata": {}, 
            "outputs": [], 
            "source": "data = data.replace('Fully Paid', 1)\ndata = data.replace('Charged Off', 0)"
        }, 
        {
            "execution_count": 9, 
            "cell_type": "code", 
            "metadata": {}, 
            "outputs": [], 
            "source": "data=data.replace('Short Term', 0.5)\ndata=data.replace('Long Term', 1)"
        }, 
        {
            "execution_count": 10, 
            "cell_type": "code", 
            "metadata": {}, 
            "outputs": [], 
            "source": "data= data.replace('1 years', 1)\ndata= data.replace('1 year', 1)\ndata= data.replace('< 1 year', 0.9)\ndata= data.replace('2 years', 2)\ndata= data.replace('2 year', 2)\ndata= data.replace('3 years', 3)\ndata= data.replace('3 year', 3)\ndata= data.replace('4 years', 4)\ndata= data.replace('4 year', 4)\ndata= data.replace('5 years', 5)\ndata= data.replace('5 year', 5)\ndata= data.replace('6 years', 6)\ndata= data.replace('6 year', 6)\ndata= data.replace('7 years', 7)\ndata= data.replace('7 year', 7)\ndata= data.replace('8 years', 8)\ndata= data.replace('8 year', 8)\ndata= data.replace('9 years', 9)\ndata= data.replace('9 year', 9)\ndata= data.replace('10 years', 10)\ndata= data.replace('10 years', 10)\ndata= data.replace('10+ years', 11)"
        }, 
        {
            "execution_count": 11, 
            "cell_type": "code", 
            "metadata": {}, 
            "outputs": [
                {
                    "execution_count": 11, 
                    "metadata": {}, 
                    "data": {
                        "text/html": "<div>\n<style scoped>\n    .dataframe tbody tr th:only-of-type {\n        vertical-align: middle;\n    }\n\n    .dataframe tbody tr th {\n        vertical-align: top;\n    }\n\n    .dataframe thead th {\n        text-align: right;\n    }\n</style>\n<table border=\"1\" class=\"dataframe\">\n  <thead>\n    <tr style=\"text-align: right;\">\n      <th></th>\n      <th>Loan Status</th>\n      <th>Current Loan Amount</th>\n      <th>Term</th>\n      <th>Credit Score</th>\n      <th>Annual Income</th>\n      <th>Years in current job</th>\n      <th>Monthly Debt</th>\n      <th>Years of Credit History</th>\n      <th>Number of Open Accounts</th>\n      <th>Number of Credit Problems</th>\n      <th>Current Credit Balance</th>\n      <th>Maximum Open Credit</th>\n    </tr>\n  </thead>\n  <tbody>\n    <tr>\n      <th>29993</th>\n      <td>1</td>\n      <td>503954.0</td>\n      <td>1.0</td>\n      <td>681.0</td>\n      <td>1149500.0</td>\n      <td>7.0</td>\n      <td>13602.48</td>\n      <td>12.9</td>\n      <td>15.0</td>\n      <td>0.0</td>\n      <td>310574.0</td>\n      <td>508640.0</td>\n    </tr>\n    <tr>\n      <th>29994</th>\n      <td>1</td>\n      <td>218086.0</td>\n      <td>0.5</td>\n      <td>743.0</td>\n      <td>1261923.0</td>\n      <td>11.0</td>\n      <td>16930.90</td>\n      <td>19.8</td>\n      <td>10.0</td>\n      <td>0.0</td>\n      <td>706230.0</td>\n      <td>1057870.0</td>\n    </tr>\n    <tr>\n      <th>29995</th>\n      <td>1</td>\n      <td>366212.0</td>\n      <td>0.5</td>\n      <td>734.0</td>\n      <td>717516.0</td>\n      <td>11.0</td>\n      <td>19672.03</td>\n      <td>22.4</td>\n      <td>9.0</td>\n      <td>0.0</td>\n      <td>478268.0</td>\n      <td>922966.0</td>\n    </tr>\n    <tr>\n      <th>29996</th>\n      <td>1</td>\n      <td>249436.0</td>\n      <td>1.0</td>\n      <td>730.0</td>\n      <td>678623.0</td>\n      <td>7.0</td>\n      <td>13233.12</td>\n      <td>17.6</td>\n      <td>14.0</td>\n      <td>0.0</td>\n      <td>89091.0</td>\n      <td>379236.0</td>\n    </tr>\n    <tr>\n      <th>29998</th>\n      <td>0</td>\n      <td>345708.0</td>\n      <td>1.0</td>\n      <td>708.0</td>\n      <td>1231561.0</td>\n      <td>11.0</td>\n      <td>17241.74</td>\n      <td>16.0</td>\n      <td>9.0</td>\n      <td>5.0</td>\n      <td>163571.0</td>\n      <td>518892.0</td>\n    </tr>\n  </tbody>\n</table>\n</div>", 
                        "text/plain": "       Loan Status  Current Loan Amount  Term  Credit Score  Annual Income  \\\n29993            1             503954.0   1.0         681.0      1149500.0   \n29994            1             218086.0   0.5         743.0      1261923.0   \n29995            1             366212.0   0.5         734.0       717516.0   \n29996            1             249436.0   1.0         730.0       678623.0   \n29998            0             345708.0   1.0         708.0      1231561.0   \n\n       Years in current job  Monthly Debt  Years of Credit History  \\\n29993                   7.0      13602.48                     12.9   \n29994                  11.0      16930.90                     19.8   \n29995                  11.0      19672.03                     22.4   \n29996                   7.0      13233.12                     17.6   \n29998                  11.0      17241.74                     16.0   \n\n       Number of Open Accounts  Number of Credit Problems  \\\n29993                     15.0                        0.0   \n29994                     10.0                        0.0   \n29995                      9.0                        0.0   \n29996                     14.0                        0.0   \n29998                      9.0                        5.0   \n\n       Current Credit Balance  Maximum Open Credit  \n29993                310574.0             508640.0  \n29994                706230.0            1057870.0  \n29995                478268.0             922966.0  \n29996                 89091.0             379236.0  \n29998                163571.0             518892.0  "
                    }, 
                    "output_type": "execute_result"
                }
            ], 
            "source": "data.tail()"
        }, 
        {
            "execution_count": 12, 
            "cell_type": "code", 
            "metadata": {}, 
            "outputs": [], 
            "source": "import numpy as np\nimport scipy.optimize as opt\nfrom sklearn import preprocessing\n%matplotlib inline \nimport matplotlib.pyplot as plt"
        }, 
        {
            "execution_count": 13, 
            "cell_type": "code", 
            "metadata": {}, 
            "outputs": [], 
            "source": "x = np.asarray(data[['Current Loan Amount', 'Term', 'Credit Score', 'Annual Income', 'Years in current job',  'Monthly Debt', 'Years of Credit History', 'Number of Open Accounts', 'Number of Credit Problems', 'Current Credit Balance', 'Maximum Open Credit']])"
        }, 
        {
            "execution_count": 14, 
            "cell_type": "code", 
            "metadata": {}, 
            "outputs": [], 
            "source": "y = np.asarray(data['Loan Status'])"
        }, 
        {
            "execution_count": 15, 
            "cell_type": "code", 
            "metadata": {}, 
            "outputs": [
                {
                    "output_type": "stream", 
                    "name": "stdout", 
                    "text": "Train set: (18527, 11) (18527,)\nTest set: (4632, 11) (4632,)\n"
                }
            ], 
            "source": "from sklearn.model_selection import train_test_split\nx_train, x_test, y_train, y_test = train_test_split( x, y, test_size=0.2, random_state=4)\nprint ('Train set:', x_train.shape,  y_train.shape)\nprint ('Test set:', x_test.shape,  y_test.shape)"
        }, 
        {
            "execution_count": 28, 
            "cell_type": "code", 
            "metadata": {}, 
            "outputs": [], 
            "source": "from sklearn import svm"
        }, 
        {
            "execution_count": 41, 
            "cell_type": "code", 
            "metadata": {}, 
            "outputs": [
                {
                    "execution_count": 41, 
                    "metadata": {}, 
                    "data": {
                        "text/plain": "SVC(C=1.0, cache_size=200, class_weight=None, coef0=0.0,\n  decision_function_shape='ovr', degree=3, gamma='auto', kernel='rbf',\n  max_iter=-1, probability=False, random_state=None, shrinking=True,\n  tol=0.001, verbose=False)"
                    }, 
                    "output_type": "execute_result"
                }
            ], 
            "source": "clf = svm.SVC(kernel='rbf')\nclf.fit(x_train, y_train) \n#clf=svm.SVC(probability = True)"
        }, 
        {
            "execution_count": 42, 
            "cell_type": "code", 
            "metadata": {}, 
            "outputs": [], 
            "source": "yhat = clf.predict(x_test)"
        }, 
        {
            "execution_count": 36, 
            "cell_type": "code", 
            "metadata": {}, 
            "outputs": [
                {
                    "execution_count": 36, 
                    "metadata": {}, 
                    "data": {
                        "text/plain": "array([1, 1, 1, 1, 1])"
                    }, 
                    "output_type": "execute_result"
                }
            ], 
            "source": "yhat[0:5]"
        }, 
        {
            "source": "## Evaluation", 
            "cell_type": "markdown", 
            "metadata": {}
        }, 
        {
            "source": "## F1_score", 
            "cell_type": "markdown", 
            "metadata": {}
        }, 
        {
            "execution_count": 21, 
            "cell_type": "code", 
            "metadata": {}, 
            "outputs": [
                {
                    "execution_count": 21, 
                    "metadata": {}, 
                    "data": {
                        "text/plain": "0.88372093023255816"
                    }, 
                    "output_type": "execute_result"
                }
            ], 
            "source": "from sklearn.metrics import f1_score\nf1_score(y_test, yhat)"
        }, 
        {
            "source": "## Jaccard index", 
            "cell_type": "markdown", 
            "metadata": {}
        }, 
        {
            "execution_count": 22, 
            "cell_type": "code", 
            "metadata": {}, 
            "outputs": [
                {
                    "execution_count": 22, 
                    "metadata": {}, 
                    "data": {
                        "text/plain": "0.79166666666666663"
                    }, 
                    "output_type": "execute_result"
                }
            ], 
            "source": "from sklearn.metrics import jaccard_similarity_score\njaccard_similarity_score(y_test, yhat)"
        }, 
        {
            "source": "### Log loss", 
            "cell_type": "markdown", 
            "metadata": {}
        }, 
        {
            "source": "## NOT AVAILABLE", 
            "cell_type": "markdown", 
            "metadata": {}
        }
    ], 
    "metadata": {
        "kernelspec": {
            "display_name": "Python 3.5", 
            "name": "python3", 
            "language": "python"
        }, 
        "language_info": {
            "mimetype": "text/x-python", 
            "nbconvert_exporter": "python", 
            "version": "3.5.5", 
            "name": "python", 
            "file_extension": ".py", 
            "pygments_lexer": "ipython3", 
            "codemirror_mode": {
                "version": 3, 
                "name": "ipython"
            }
        }
    }, 
    "nbformat": 4
}